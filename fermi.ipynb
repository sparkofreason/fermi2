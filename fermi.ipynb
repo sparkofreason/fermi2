version https://git-lfs.github.com/spec/v1
oid sha256:f69d6482ec03451c815c707b490722950ef1940321eab6e0ae1b691b2b9930eb
size 8574434
