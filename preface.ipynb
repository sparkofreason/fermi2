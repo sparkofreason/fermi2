version https://git-lfs.github.com/spec/v1
oid sha256:564535094ad0e14a3eb8e30318ac2b5051438e10462f1825d187b7fa26ec575e
size 9539
