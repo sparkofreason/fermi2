version https://git-lfs.github.com/spec/v1
oid sha256:c10cc8d72e81baad31d81e588c35754307b2090ef2dab8310bea6e9937c5b025
size 49538575
