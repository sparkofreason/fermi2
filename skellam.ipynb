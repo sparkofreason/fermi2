version https://git-lfs.github.com/spec/v1
oid sha256:00a259abb8cfe1221d59607b21e7253b41b7aafa9ede116f22cb2da517df1400
size 258181
