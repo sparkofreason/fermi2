version https://git-lfs.github.com/spec/v1
oid sha256:2e9c18f3c4e5372a82830d3e52c7528c537ad522ba4d906ca3e02c7fe7b07237
size 64317
