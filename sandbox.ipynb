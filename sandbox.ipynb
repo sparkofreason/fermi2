version https://git-lfs.github.com/spec/v1
oid sha256:cdb902b9339d95f8f65771c596a60fb03a3de33e029f08259ac7332c15f0ac2b
size 20591326
