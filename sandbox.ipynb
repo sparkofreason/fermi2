version https://git-lfs.github.com/spec/v1
oid sha256:13f3562e5155a853e025371fb868c8b3b356860552859d0bea1b3883a67293d5
size 13158324
