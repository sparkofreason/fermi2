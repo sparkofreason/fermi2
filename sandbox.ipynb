version https://git-lfs.github.com/spec/v1
oid sha256:344dd111e006a5835e22e119ccd7f36b5cff7b8804db9e3679cead242e53935b
size 20506111
