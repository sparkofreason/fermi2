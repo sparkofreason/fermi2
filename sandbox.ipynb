version https://git-lfs.github.com/spec/v1
oid sha256:73bfb21819b8f5b17056bc8be5801dadceb4674c1f4bf5897d1fa5948d9d6ab4
size 20506111
