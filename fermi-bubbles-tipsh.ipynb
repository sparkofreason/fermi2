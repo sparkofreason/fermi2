version https://git-lfs.github.com/spec/v1
oid sha256:6d7da73735d15b651758f27d086e42df885c21f6676bc75879c2ff8dc89a9156
size 125485623
