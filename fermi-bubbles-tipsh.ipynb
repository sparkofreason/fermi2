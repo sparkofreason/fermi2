version https://git-lfs.github.com/spec/v1
oid sha256:b370061159dcef5fe717a5934b22a077d2c455e4e74411c5035481ac00e023c0
size 133812797
