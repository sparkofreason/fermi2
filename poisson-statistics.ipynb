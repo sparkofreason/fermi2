version https://git-lfs.github.com/spec/v1
oid sha256:f5cbcc6dfe763e5d32446141617ff27777e4867b91ffdc38d3ec0bf0a1a9806b
size 2753432
