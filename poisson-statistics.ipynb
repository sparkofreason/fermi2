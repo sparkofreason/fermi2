version https://git-lfs.github.com/spec/v1
oid sha256:cae8120552bbe4c4a2b8d54ba54ea7826b869959ec7a5d6870d774321d61b12b
size 1121875
