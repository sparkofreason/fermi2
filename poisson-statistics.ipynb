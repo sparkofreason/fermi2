version https://git-lfs.github.com/spec/v1
oid sha256:cfc1092880aff12425c7092c7c84b3001a261d90cff488918a83c5fd0cf3aadb
size 20303
