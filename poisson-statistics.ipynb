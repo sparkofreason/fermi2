version https://git-lfs.github.com/spec/v1
oid sha256:67e0728c4631a138f5c3172fa296924dfa0a0d8662bc3f01cc7992316bad8675
size 2416547
