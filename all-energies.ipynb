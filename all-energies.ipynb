version https://git-lfs.github.com/spec/v1
oid sha256:56eb837905463f7e7c7083a1c4628693115cdc268e98ede72855dbf82bd8f645
size 11547254
