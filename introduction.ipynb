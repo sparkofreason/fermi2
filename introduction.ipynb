version https://git-lfs.github.com/spec/v1
oid sha256:a0a6802e393f96b843b04d3c9e9ef746e840384465186b7644d0444cf893338c
size 2765105
