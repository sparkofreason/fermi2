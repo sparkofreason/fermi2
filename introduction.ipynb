version https://git-lfs.github.com/spec/v1
oid sha256:622bc393ba23bdff7f3d2d4c8f7b5852af03ffa1fcc11b2d62bcdd74718dfe0f
size 2764428
