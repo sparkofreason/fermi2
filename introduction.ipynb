version https://git-lfs.github.com/spec/v1
oid sha256:d961bc513ec3ac334f7937b26fddc195f16d5fbd9d87301245f52d5534176745
size 2755526
