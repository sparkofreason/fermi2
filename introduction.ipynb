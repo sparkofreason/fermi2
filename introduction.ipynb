version https://git-lfs.github.com/spec/v1
oid sha256:7f80a8432532a1d4b3c8669713132de4cfef9eb64f4a456f0ffe5acf65a73fc0
size 2763711
