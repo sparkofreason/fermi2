version https://git-lfs.github.com/spec/v1
oid sha256:631a3b2d2eabeaeaa66acb91dac5607ba8f862b041b817a050f195ddc73399f1
size 5444643
