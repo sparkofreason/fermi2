version https://git-lfs.github.com/spec/v1
oid sha256:7bf4ed99d3f38ff19ab3a5e838736cb3e08f82a0ff1201fbb0efae788b37578b
size 589
