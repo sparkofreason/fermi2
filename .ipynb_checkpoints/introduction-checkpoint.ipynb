version https://git-lfs.github.com/spec/v1
oid sha256:91f0979a9af08e53fbcb7f7e63b778c4af256fb8f9af330e963d014e16b66b6b
size 2764779
