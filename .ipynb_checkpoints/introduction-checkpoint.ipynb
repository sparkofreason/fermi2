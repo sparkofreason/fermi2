version https://git-lfs.github.com/spec/v1
oid sha256:adf0bb87e8d4ad260df396f1d9d816436396bc492ef0c9ac6028076db08c0db1
size 2763973
