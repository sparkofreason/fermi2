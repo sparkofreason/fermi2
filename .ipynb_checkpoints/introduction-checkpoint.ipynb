version https://git-lfs.github.com/spec/v1
oid sha256:c0d95ab566e1f9b8108eb6ec558edf7fd155e63fd21c7772b75a4e24f0b9807a
size 2764404
