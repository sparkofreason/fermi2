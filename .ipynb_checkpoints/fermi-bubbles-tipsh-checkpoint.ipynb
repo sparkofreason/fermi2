version https://git-lfs.github.com/spec/v1
oid sha256:f4f75a20d84d1e44c3d1a51103b035a2d1d9dd6f66bb2479c3c8c0eb1476ab90
size 129437121
