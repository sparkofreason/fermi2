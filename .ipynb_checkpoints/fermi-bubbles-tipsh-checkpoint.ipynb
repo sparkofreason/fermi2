version https://git-lfs.github.com/spec/v1
oid sha256:e33401f6c52ae907cf647b27fe392d3fea0b5b15fe11a6a1ba5abd51419b8fb6
size 198540289
