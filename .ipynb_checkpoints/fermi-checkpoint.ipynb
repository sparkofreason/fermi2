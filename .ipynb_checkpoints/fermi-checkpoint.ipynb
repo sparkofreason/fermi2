version https://git-lfs.github.com/spec/v1
oid sha256:4e6c7ea8dc574ee6a01621ca397bcf6af839e74e1d9dc5dc402e4e70cb2e2e96
size 2388123
