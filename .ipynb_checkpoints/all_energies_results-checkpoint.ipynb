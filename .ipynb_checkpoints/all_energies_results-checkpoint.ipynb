version https://git-lfs.github.com/spec/v1
oid sha256:31c1031f149b91b357e5fb8611b09f0779bcd97acc6a42ae412c92b3565ff00f
size 589
