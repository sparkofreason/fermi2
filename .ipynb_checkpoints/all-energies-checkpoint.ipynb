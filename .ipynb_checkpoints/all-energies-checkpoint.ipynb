version https://git-lfs.github.com/spec/v1
oid sha256:19d4414c883eae758de03c17dd82839222c4a0bd0e9a9e116e9a5d26bf2ca724
size 12327290
